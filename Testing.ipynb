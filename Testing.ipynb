{
 "cells": [
  {
   "cell_type": "code",
   "execution_count": 28,
   "metadata": {},
   "outputs": [],
   "source": [
    "import pandas as pd\n",
    "import numpy as np\n",
    "from tqdm import tqdm\n",
    "import time\n"
   ]
  },
  {
   "cell_type": "code",
   "execution_count": 29,
   "metadata": {},
   "outputs": [],
   "source": [
    "\n",
    "class TireStrategy : \n",
    "    def __init__(self) :\n",
    "        self.S_laps = 0\n",
    "        self.M_laps = 0\n",
    "        self.H_laps = 0\n",
    "        self.time = 0\n",
    "        self.pitstops = 0\n",
    "        self.stint = ''\n",
    "\n",
    "    def __str__(self) :\n",
    "        return 'Soft Laps: ' + str(self.S_laps) + '\\nMeduim Laps: ' + str(self.M_laps) + '\\nHard Laps: ' + str(self.H_laps) + '\\nTime for Race: ' + toPrettyTime(self.time) + '\\nPitstops: ' + str(self.pitstops) + '\\nStints: ' + self.stint\n",
    "\n",
    "def get_best_tire_option(laps, tire_limits = np.array([9, 21])) :\n",
    "    result = TireStrategy()\n",
    "    if laps <= tire_limits[0] :\n",
    "        result.S_laps = laps\n",
    "        result.time = np.sum(soft(np.arange(1, laps+1)))\n",
    "    elif(laps <= tire_limits[1]) :\n",
    "        result.M_laps = laps\n",
    "        result.time = np.sum(medium(np.arange(1, laps+1)))\n",
    "    else :\n",
    "        result.H_laps = laps\n",
    "        result.time = np.sum(hard(np.arange(1, laps+1)))\n",
    "\n",
    "    return result\n",
    "\n",
    "    S = np.sum(soft(np.arange(1, laps+1)))\n",
    "    M = np.sum(medium(np.arange(1, laps+1)))\n",
    "    H = np.sum(hard(np.arange(1, laps+1)))\n",
    "\n",
    "    if S < M and S < H:\n",
    "        result.S_laps = laps\n",
    "        result.time = S\n",
    "    elif M < S and M < H:\n",
    "        result.M_laps = laps\n",
    "        result.time = M\n",
    "    else:\n",
    "        result.H_laps = laps\n",
    "        result.time = H\n",
    "\n",
    "    return result\n",
    "\n",
    "def soft(x):\n",
    "    return 118 + np.exp(0.33 * x - 2)\n",
    "def medium(x):\n",
    "    return 120 + np.exp(0.31 * x - 6.1)\n",
    "def hard(x):\n",
    "    return 122 + np.exp(0.3 * x - 9.4)\n",
    "\n",
    "def toPrettyTime(sek) :\n",
    "    return str(int(sek / 3600)) + 'h' + str(int((sek % 3600) / 60)) + 'm' + str(int(sek % 60)) + 's'\n",
    "\n",
    "def readCsv() : \n",
    "    df = pd.read_csv('configs.csv')\n",
    "    return df\n",
    "\n",
    "\n",
    "\n"
   ]
  },
  {
   "cell_type": "code",
   "execution_count": 30,
   "metadata": {},
   "outputs": [],
   "source": [
    "\n",
    "def find_pit_combinations(laps, pits, bottom_cap=1, top_cap=float('inf')):\n",
    "    def generate_combinations(current_combination, remaining_laps, remaining_pits, bottom, top):\n",
    "        if remaining_pits == 0:\n",
    "            if remaining_laps == 0:\n",
    "                combinations.append(sorted(current_combination.copy()))\n",
    "            return\n",
    "            \n",
    "        for i in range(bottom, min(remaining_laps, top) + 1):\n",
    "            current_combination.append(i)\n",
    "            generate_combinations(current_combination, remaining_laps - i, remaining_pits - 1, i, top)\n",
    "            current_combination.pop()\n",
    "\n",
    "    combinations = []\n",
    "    generate_combinations([], laps, pits, bottom_cap, top_cap)\n",
    "    return np.unique(np.array(combinations), axis=0)"
   ]
  },
  {
   "cell_type": "code",
   "execution_count": 31,
   "metadata": {},
   "outputs": [],
   "source": [
    "def calculate_tire_limit () :\n",
    "    tire_limit = np.array([0, 0])\n",
    "    # find oout when medium is faster than soft\n",
    "    for i in range(1, 100) :\n",
    "        if medium(i) < soft(i) :\n",
    "            tire_limit[0] = i\n",
    "            break\n",
    "    # find out when hard is faster than medium\n",
    "    for i in range(1, 100) :\n",
    "        if hard(i) < medium(i) :\n",
    "            tire_limit[1] = i\n",
    "            break\n",
    "\n",
    "    return tire_limit\n",
    "    "
   ]
  },
  {
   "cell_type": "code",
   "execution_count": 32,
   "metadata": {},
   "outputs": [
    {
     "name": "stdout",
     "output_type": "stream",
     "text": [
      "Calculated tire limit: 9 and 23\n"
     ]
    },
    {
     "ename": "KeyboardInterrupt",
     "evalue": "Interrupted by user",
     "output_type": "error",
     "traceback": [
      "\u001b[1;31m---------------------------------------------------------------------------\u001b[0m",
      "\u001b[1;31mKeyboardInterrupt\u001b[0m                         Traceback (most recent call last)",
      "Cell \u001b[1;32mIn[32], line 12\u001b[0m\n\u001b[0;32m      9\u001b[0m tire_limit \u001b[38;5;241m=\u001b[39m calculate_tire_limit()\n\u001b[0;32m     10\u001b[0m \u001b[38;5;28mprint\u001b[39m (\u001b[38;5;124mf\u001b[39m\u001b[38;5;124m'\u001b[39m\u001b[38;5;124mCalculated tire limit: \u001b[39m\u001b[38;5;132;01m{\u001b[39;00mtire_limit[\u001b[38;5;241m0\u001b[39m]\u001b[38;5;132;01m}\u001b[39;00m\u001b[38;5;124m and \u001b[39m\u001b[38;5;132;01m{\u001b[39;00mtire_limit[\u001b[38;5;241m1\u001b[39m]\u001b[38;5;132;01m}\u001b[39;00m\u001b[38;5;124m'\u001b[39m)\n\u001b[1;32m---> 12\u001b[0m laps \u001b[38;5;241m=\u001b[39m \u001b[38;5;28mint\u001b[39m(\u001b[38;5;28;43minput\u001b[39;49m\u001b[43m(\u001b[49m\u001b[38;5;124;43m'\u001b[39;49m\u001b[38;5;124;43mLaps: \u001b[39;49m\u001b[38;5;124;43m'\u001b[39;49m\u001b[43m)\u001b[49m)\n\u001b[0;32m     13\u001b[0m pits \u001b[38;5;241m=\u001b[39m \u001b[38;5;28mint\u001b[39m(\u001b[38;5;28minput\u001b[39m(\u001b[38;5;124m'\u001b[39m\u001b[38;5;124mPits: \u001b[39m\u001b[38;5;124m'\u001b[39m))\n\u001b[0;32m     14\u001b[0m \u001b[38;5;28;01mif\u001b[39;00m pits \u001b[38;5;241m==\u001b[39m \u001b[38;5;241m0\u001b[39m : pits \u001b[38;5;241m=\u001b[39m \u001b[38;5;241m0\u001b[39m\n",
      "File \u001b[1;32m~\\AppData\\Roaming\\Python\\Python311\\site-packages\\ipykernel\\kernelbase.py:1251\u001b[0m, in \u001b[0;36mKernel.raw_input\u001b[1;34m(self, prompt)\u001b[0m\n\u001b[0;32m   1249\u001b[0m     msg \u001b[38;5;241m=\u001b[39m \u001b[38;5;124m\"\u001b[39m\u001b[38;5;124mraw_input was called, but this frontend does not support input requests.\u001b[39m\u001b[38;5;124m\"\u001b[39m\n\u001b[0;32m   1250\u001b[0m     \u001b[38;5;28;01mraise\u001b[39;00m StdinNotImplementedError(msg)\n\u001b[1;32m-> 1251\u001b[0m \u001b[38;5;28;01mreturn\u001b[39;00m \u001b[38;5;28;43mself\u001b[39;49m\u001b[38;5;241;43m.\u001b[39;49m\u001b[43m_input_request\u001b[49m\u001b[43m(\u001b[49m\n\u001b[0;32m   1252\u001b[0m \u001b[43m    \u001b[49m\u001b[38;5;28;43mstr\u001b[39;49m\u001b[43m(\u001b[49m\u001b[43mprompt\u001b[49m\u001b[43m)\u001b[49m\u001b[43m,\u001b[49m\n\u001b[0;32m   1253\u001b[0m \u001b[43m    \u001b[49m\u001b[38;5;28;43mself\u001b[39;49m\u001b[38;5;241;43m.\u001b[39;49m\u001b[43m_parent_ident\u001b[49m\u001b[43m[\u001b[49m\u001b[38;5;124;43m\"\u001b[39;49m\u001b[38;5;124;43mshell\u001b[39;49m\u001b[38;5;124;43m\"\u001b[39;49m\u001b[43m]\u001b[49m\u001b[43m,\u001b[49m\n\u001b[0;32m   1254\u001b[0m \u001b[43m    \u001b[49m\u001b[38;5;28;43mself\u001b[39;49m\u001b[38;5;241;43m.\u001b[39;49m\u001b[43mget_parent\u001b[49m\u001b[43m(\u001b[49m\u001b[38;5;124;43m\"\u001b[39;49m\u001b[38;5;124;43mshell\u001b[39;49m\u001b[38;5;124;43m\"\u001b[39;49m\u001b[43m)\u001b[49m\u001b[43m,\u001b[49m\n\u001b[0;32m   1255\u001b[0m \u001b[43m    \u001b[49m\u001b[43mpassword\u001b[49m\u001b[38;5;241;43m=\u001b[39;49m\u001b[38;5;28;43;01mFalse\u001b[39;49;00m\u001b[43m,\u001b[49m\n\u001b[0;32m   1256\u001b[0m \u001b[43m\u001b[49m\u001b[43m)\u001b[49m\n",
      "File \u001b[1;32m~\\AppData\\Roaming\\Python\\Python311\\site-packages\\ipykernel\\kernelbase.py:1295\u001b[0m, in \u001b[0;36mKernel._input_request\u001b[1;34m(self, prompt, ident, parent, password)\u001b[0m\n\u001b[0;32m   1292\u001b[0m \u001b[38;5;28;01mexcept\u001b[39;00m \u001b[38;5;167;01mKeyboardInterrupt\u001b[39;00m:\n\u001b[0;32m   1293\u001b[0m     \u001b[38;5;66;03m# re-raise KeyboardInterrupt, to truncate traceback\u001b[39;00m\n\u001b[0;32m   1294\u001b[0m     msg \u001b[38;5;241m=\u001b[39m \u001b[38;5;124m\"\u001b[39m\u001b[38;5;124mInterrupted by user\u001b[39m\u001b[38;5;124m\"\u001b[39m\n\u001b[1;32m-> 1295\u001b[0m     \u001b[38;5;28;01mraise\u001b[39;00m \u001b[38;5;167;01mKeyboardInterrupt\u001b[39;00m(msg) \u001b[38;5;28;01mfrom\u001b[39;00m \u001b[38;5;28;01mNone\u001b[39;00m\n\u001b[0;32m   1296\u001b[0m \u001b[38;5;28;01mexcept\u001b[39;00m \u001b[38;5;167;01mException\u001b[39;00m:\n\u001b[0;32m   1297\u001b[0m     \u001b[38;5;28mself\u001b[39m\u001b[38;5;241m.\u001b[39mlog\u001b[38;5;241m.\u001b[39mwarning(\u001b[38;5;124m\"\u001b[39m\u001b[38;5;124mInvalid Message:\u001b[39m\u001b[38;5;124m\"\u001b[39m, exc_info\u001b[38;5;241m=\u001b[39m\u001b[38;5;28;01mTrue\u001b[39;00m)\n",
      "\u001b[1;31mKeyboardInterrupt\u001b[0m: Interrupted by user"
     ]
    }
   ],
   "source": [
    "pitstop_time = 30\n",
    "laps = 0\n",
    "pits = 0\n",
    "top_cap = 0\n",
    "bottom_cap = 0\n",
    "options = None\n",
    "strategies = []\n",
    "\n",
    "tire_limit = calculate_tire_limit()\n",
    "print (f'Calculated tire limit: {tire_limit[0]} and {tire_limit[1]}')\n",
    "\n",
    "laps = int(input('Laps: '))\n",
    "pits = int(input('Pits: '))\n",
    "if pits == 0 : pits = 0\n",
    "else : pits += 1\n",
    "set_caps = input('set Minimum/Maximum Laps with 1 tire? (y/n) ')\n",
    "set_caps = set_caps.lower()\n",
    "if set_caps == 'y' :\n",
    "    bottom_cap = int(input('Minimum Laps: '))\n",
    "    top_cap = int(input('Maximum Laps: '))\n",
    "else :\n",
    "    bottom_cap = 1\n",
    "    top_cap = laps\n",
    "    print(f'Using default caps {bottom_cap} and {top_cap}')\n",
    "\n",
    "\n",
    "print('your configurations:')\n",
    "print(f'Laps: {laps}')\n",
    "print(f'Pits: {pits}')\n",
    "print(f'Bottom cap: {bottom_cap}')\n",
    "print(f'Top cap: {top_cap}')\n",
    "print(f'Pitstop time: {pitstop_time}')\n",
    "print('-----------------------------------------------------------\\n')\n",
    "start_time = time.time()\n",
    "\n",
    "\n",
    "# -----------------------------------------\n",
    "# option calclation\n",
    "# -----------------------------------------\n",
    "print('now calculating options...')\n",
    "if(laps // pits <= bottom_cap or laps // pits >= top_cap) :\n",
    "    print('Laps per stint not capped')\n",
    "    options = find_pit_combinations(laps, pits, bottom_cap, top_cap)\n",
    "else :\n",
    "    print(f'Laps per stint capped at {bottom_cap} and {top_cap}')\n",
    "    options = find_pit_combinations(laps, pits, bottom_cap, top_cap)\n",
    "\n",
    "time_to_calculate_options = time.time()\n",
    "print('-----------------------------------------------------------')\n",
    "print('calculated ' + str(len(options)) + ' options')\n",
    "print(f'in {round(time_to_calculate_options-start_time, 3)} seconds ')\n",
    "print('-----------------------------------------------------------\\n')\n",
    "\n",
    "\n",
    "# -----------------------------------------\n",
    "# calculating Strategies\n",
    "# ----------------------------------------- \n",
    "print('-----------------------------------------------------------')\n",
    "print('now calculating Strategies...')\n",
    "for option in tqdm(options, desc=\"Processing Options\", unit=\"option\"):\n",
    "    strat = TireStrategy()\n",
    "    stints = []\n",
    "\n",
    "    for stint in range(0, len(option)) :\n",
    "        stints.append(get_best_tire_option(option[stint], tire_limit))\n",
    "\n",
    "    for stint in range(0, len(stints)) :\n",
    "        if(stint != 0) :\n",
    "            strat.time += pitstop_time\n",
    "            strat.pitstops += 1\n",
    "        strat.S_laps += stints[stint].S_laps\n",
    "        strat.M_laps += stints[stint].M_laps\n",
    "        strat.H_laps += stints[stint].H_laps\n",
    "        strat.time += stints[stint].time\n",
    "        if (stints[stint].S_laps != 0) :\n",
    "            strat.stint += str(f'\\nStint {stint+1}: {stints[stint].S_laps} laps with Soft')\n",
    "        elif (stints[stint].M_laps != 0) :\n",
    "            strat.stint += str(f'\\nStint {stint+1}: {stints[stint].M_laps} laps with Medium')\n",
    "        else :\n",
    "            strat.stint += str(f'\\nStint {stint+1}: {stints[stint].H_laps} laps with Hard')\n",
    "        \n",
    "    strategies.append(strat)\n",
    "\n",
    "time_to_calculate_strategy = time.time()\n",
    "print(f'Time to calculate all Strategies {round(time_to_calculate_strategy-time_to_calculate_options, 3)} seconds ')\n",
    "print('-----------------------------------------------------------\\n')    \n",
    "\n",
    "\n",
    "# -----------------------------------------\n",
    "# getting best Strategy\n",
    "# ----------------------------------------- \n",
    "print('***********************************************************') \n",
    "print(f'total time: {round(time_to_calculate_strategy-start_time, 3)} seconds ')\n",
    "\n",
    "best = TireStrategy()\n",
    "besttime = 9999999999999999999999\n",
    "\n",
    "for strategy in strategies :\n",
    "    if strategy.time < besttime :\n",
    "        best = strategy\n",
    "        besttime = strategy.time\n",
    "\n",
    "\n",
    "print('Best Stratgy:')\n",
    "print(str(best))"
   ]
  },
  {
   "cell_type": "code",
   "execution_count": 37,
   "metadata": {},
   "outputs": [
    {
     "name": "stdout",
     "output_type": "stream",
     "text": [
      "Calculated tire limit: 9 and 23\n"
     ]
    },
    {
     "name": "stdout",
     "output_type": "stream",
     "text": [
      "your configurations:\n",
      "Laps: 120\n",
      "Pits: 6\n",
      "Bottom cap: 5\n",
      "Top cap: 45\n",
      "Pitstop time: 30\n",
      "-----------------------------------------------------------\n",
      "\n",
      "Pits 0:\n"
     ]
    },
    {
     "name": "stderr",
     "output_type": "stream",
     "text": [
      "Processing Options: 100%|██████████| 1/1 [00:00<?, ?option/s]\n"
     ]
    },
    {
     "name": "stdout",
     "output_type": "stream",
     "text": [
      "Pits 1:\n"
     ]
    },
    {
     "name": "stderr",
     "output_type": "stream",
     "text": [
      "Processing Options: 100%|██████████| 60/60 [00:00<?, ?option/s]\n"
     ]
    },
    {
     "name": "stdout",
     "output_type": "stream",
     "text": [
      "Pits 2:\n"
     ]
    },
    {
     "name": "stderr",
     "output_type": "stream",
     "text": [
      "Processing Options: 100%|██████████| 27/27 [00:00<?, ?option/s]\n"
     ]
    },
    {
     "name": "stdout",
     "output_type": "stream",
     "text": [
      "Pits 3:\n"
     ]
    },
    {
     "name": "stderr",
     "output_type": "stream",
     "text": [
      "Processing Options: 100%|██████████| 1592/1592 [00:00<00:00, 16342.38option/s]"
     ]
    },
    {
     "name": "stdout",
     "output_type": "stream",
     "text": [
      "Pits 4:\n"
     ]
    },
    {
     "name": "stderr",
     "output_type": "stream",
     "text": [
      "\n",
      "Processing Options: 100%|██████████| 16809/16809 [00:01<00:00, 12983.20option/s]\n"
     ]
    },
    {
     "name": "stdout",
     "output_type": "stream",
     "text": [
      "Pits 5:\n"
     ]
    },
    {
     "name": "stderr",
     "output_type": "stream",
     "text": [
      "Processing Options: 100%|██████████| 76668/76668 [00:06<00:00, 11663.76option/s]\n"
     ]
    },
    {
     "name": "stdout",
     "output_type": "stream",
     "text": [
      "Pits 6:\n"
     ]
    },
    {
     "name": "stderr",
     "output_type": "stream",
     "text": [
      "Processing Options: 100%|██████████| 203446/203446 [00:21<00:00, 9262.37option/s] "
     ]
    },
    {
     "name": "stdout",
     "output_type": "stream",
     "text": [
      "-----------------------------------------------------------\n",
      "besttimes:\n",
      "Pits 0: 382231306h59m36s\n",
      "Pits 1: 15h43m3s\n",
      "Pits 2: 4h7m35s\n",
      "Pits 3: 4h5m1s\n",
      "Pits 4: 4h3m38s\n",
      "Pits 5: 4h2m54s\n",
      "Pits 6: 4h3m5s\n",
      "-----------------------------------------------------------\n",
      "overall best strategy:\n",
      "Soft Laps: 0\n",
      "Meduim Laps: 120\n",
      "Hard Laps: 0\n",
      "Time for Race: 4h2m54s\n",
      "Pitstops: 5\n",
      "Stints: \n",
      "Stint 1: 20 laps with Medium\n",
      "Stint 2: 20 laps with Medium\n",
      "Stint 3: 20 laps with Medium\n",
      "Stint 4: 20 laps with Medium\n",
      "Stint 5: 20 laps with Medium\n",
      "Stint 6: 20 laps with Medium\n",
      "-----------------------------------------------------------\n",
      "time to complete: 32.812 seconds \n"
     ]
    },
    {
     "name": "stderr",
     "output_type": "stream",
     "text": [
      "\n"
     ]
    }
   ],
   "source": [
    "pitstop_time = 30\n",
    "laps = 0\n",
    "max_pits = 0\n",
    "top_cap = 0\n",
    "bottom_cap = 0\n",
    "options = None\n",
    "\n",
    "\n",
    "tire_limit = calculate_tire_limit()\n",
    "print (f'Calculated tire limit: {tire_limit[0]} and {tire_limit[1]}')\n",
    "\n",
    "laps = int(input('Laps: '))\n",
    "max_pits = int(input('Max Pits: '))\n",
    "if max_pits == 0 : max_pits = 0\n",
    "else : max_pits += 1\n",
    "set_caps = input('set Minimum/Maximum Laps with 1 tire? (y/n) ')\n",
    "set_caps = set_caps.lower()\n",
    "if set_caps == 'y' :\n",
    "    bottom_cap = int(input('Minimum Laps: '))\n",
    "    top_cap = int(input('Maximum Laps: '))\n",
    "else :\n",
    "    bottom_cap = 1\n",
    "    top_cap = laps\n",
    "    print(f'Using default caps {bottom_cap} and {top_cap}')\n",
    "\n",
    "\n",
    "print('your configurations:')\n",
    "print(f'Laps: {laps}')\n",
    "print(f'Pits: {max_pits-1}')\n",
    "print(f'Bottom cap: {bottom_cap}')\n",
    "print(f'Top cap: {top_cap}')\n",
    "print(f'Pitstop time: {pitstop_time}')\n",
    "print('-----------------------------------------------------------\\n')\n",
    "start_time = time.time()\n",
    "\n",
    "besttimes = []\n",
    "\n",
    "for pits in range(1, max_pits+1) :\n",
    "    strategies = []\n",
    "    # print('===========================================================')\n",
    "    print(f'Pits {pits-1}:')\n",
    "    # print('===========================================================')\n",
    " \n",
    "    # -----------------------------------------\n",
    "    # option calclation\n",
    "    # -----------------------------------------\n",
    "    # print('now calculating options...')\n",
    "\n",
    "    if(laps // pits <= bottom_cap or laps // pits >= top_cap) :\n",
    "        # print('Laps per stint not capped')\n",
    "        options = find_pit_combinations(laps, pits, 1, laps)\n",
    "    else :\n",
    "        # print(f'Laps per stint capped at {bottom_cap} and {top_cap}')\n",
    "\n",
    "        options = find_pit_combinations(laps, pits, bottom_cap, top_cap)\n",
    "\n",
    "    time_to_calculate_options = time.time()\n",
    "    # print('-----------------------------------------------------------')\n",
    "    # print('calculated ' + str(len(options)) + ' options')\n",
    "    # print(f'in {round(time_to_calculate_options-start_time, 3)} seconds ')\n",
    "    # print('-----------------------------------------------------------\\n')\n",
    "\n",
    "\n",
    "    # -----------------------------------------\n",
    "    # calculating Strategies\n",
    "    # ----------------------------------------- \n",
    "    # print('-----------------------------------------------------------')\n",
    "    # print('now calculating Strategies...')\n",
    "    for option in tqdm(options, desc=\"Processing Options\", unit=\"option\"):\n",
    "        strat = TireStrategy()\n",
    "        stints = []\n",
    "\n",
    "        for stint in range(0, len(option)) :\n",
    "            stints.append(get_best_tire_option(option[stint], tire_limit))\n",
    "\n",
    "        for stint in range(0, len(stints)) :\n",
    "            if(stint != 0) :\n",
    "                strat.time += pitstop_time\n",
    "                strat.pitstops += 1\n",
    "            strat.S_laps += stints[stint].S_laps\n",
    "            strat.M_laps += stints[stint].M_laps\n",
    "            strat.H_laps += stints[stint].H_laps\n",
    "            strat.time += stints[stint].time\n",
    "            if (stints[stint].S_laps != 0) :\n",
    "                strat.stint += str(f'\\nStint {stint+1}: {stints[stint].S_laps} laps with Soft')\n",
    "            elif (stints[stint].M_laps != 0) :\n",
    "                strat.stint += str(f'\\nStint {stint+1}: {stints[stint].M_laps} laps with Medium')\n",
    "            else :\n",
    "                strat.stint += str(f'\\nStint {stint+1}: {stints[stint].H_laps} laps with Hard')\n",
    "            \n",
    "        strategies.append(strat)\n",
    "\n",
    "    time_to_calculate_strategy = time.time()\n",
    "    # print(f'Time to calculate all Strategies {round(time_to_calculate_strategy-time_to_calculate_options, 3)} seconds ')\n",
    "    # print('-----------------------------------------------------------\\n')    \n",
    "\n",
    "\n",
    "    # -----------------------------------------\n",
    "    # getting best Strategy\n",
    "    # ----------------------------------------- \n",
    "    best = TireStrategy()\n",
    "    besttime = 9999999999999999999999\n",
    "\n",
    "    for strategy in strategies :\n",
    "        if strategy.time < besttime :\n",
    "            best = strategy\n",
    "            besttime = strategy.time\n",
    "\n",
    "\n",
    "    #print(f'Best Stratgy: with {pits} pits')\n",
    "    #print(str(best))\n",
    "    besttimes.append(best)\n",
    "\n",
    "\n",
    "print('-----------------------------------------------------------')   \n",
    "print('besttimes:')\n",
    "for i in range(0, len(besttimes)) :\n",
    "    print(f'Pits {i}: {toPrettyTime(besttimes[i].time)}')\n",
    "print('-----------------------------------------------------------')  \n",
    "print('overall best strategy:')\n",
    "overall_best = TireStrategy()\n",
    "overall_best_time = 9999999999999999999999\n",
    "for i in range(0, len(besttimes)) :\n",
    "    if besttimes[i].time < overall_best_time :\n",
    "        overall_best_time = besttimes[i].time\n",
    "        overall_best = besttimes[i]\n",
    "print(overall_best) \n",
    "print('-----------------------------------------------------------')  \n",
    "print(f'time to complete: {round(time.time()-start_time, 3)} seconds ')\n"
   ]
  },
  {
   "cell_type": "code",
   "execution_count": null,
   "metadata": {},
   "outputs": [],
   "source": []
  }
 ],
 "metadata": {
  "kernelspec": {
   "display_name": "Python 3",
   "language": "python",
   "name": "python3"
  },
  "language_info": {
   "codemirror_mode": {
    "name": "ipython",
    "version": 3
   },
   "file_extension": ".py",
   "mimetype": "text/x-python",
   "name": "python",
   "nbconvert_exporter": "python",
   "pygments_lexer": "ipython3",
   "version": "3.11.5"
  }
 },
 "nbformat": 4,
 "nbformat_minor": 2
}
